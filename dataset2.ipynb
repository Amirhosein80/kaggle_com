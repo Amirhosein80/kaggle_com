{
 "cells": [
  {
   "cell_type": "code",
   "execution_count": 1,
   "outputs": [],
   "source": [
    "import pandas as pd\n",
    "import numpy as np\n",
    "import os\n",
    "import glob"
   ],
   "metadata": {
    "collapsed": false,
    "pycharm": {
     "name": "#%%\n"
    }
   }
  },
  {
   "cell_type": "code",
   "execution_count": 13,
   "outputs": [],
   "source": [
    "def read_dataset_csv(csv_file):\n",
    "    df = pd.read_csv(\"train.csv\")\n",
    "    df.dropna(axis=0, inplace=True)\n",
    "    df.reset_index(inplace=True, drop=True)\n",
    "    df[\"case\"] = df[\"id\"].map(case_split_func)\n",
    "    df[\"segmentation\"] = df[\"segmentation\"].map(split_rle)\n",
    "    df[\"image_path\"] = df[\"id\"].map(image_file)\n",
    "    df[\"class\"] = df[\"class\"].map(to_list)\n",
    "    df[\"segmentation\"] = df[\"segmentation\"].map(to_list)\n",
    "\n",
    "    duplicated_df = df[df.id.duplicated()]\n",
    "    duplicated_df.reset_index(drop=True, inplace=True)\n",
    "\n",
    "    deleted_dup_df = df[~df.id.duplicated()]\n",
    "    deleted_dup_df.reset_index(drop=True, inplace=True)\n",
    "\n",
    "    for idx in range(len(duplicated_df)):\n",
    "        duplicate_data = duplicated_df.iloc[idx]\n",
    "        duplicate_data_id = duplicate_data.id\n",
    "        data = deleted_dup_df[deleted_dup_df.id == duplicate_data_id]\n",
    "        data[\"class\"].values[0] += duplicate_data[\"class\"]\n",
    "        data[\"segmentation\"].values[0] += duplicate_data[\"segmentation\"]\n",
    "\n",
    "    return deleted_dup_df"
   ],
   "metadata": {
    "collapsed": false,
    "pycharm": {
     "name": "#%%\n"
    }
   }
  },
  {
   "cell_type": "code",
   "execution_count": 14,
   "outputs": [],
   "source": [
    "dataset = read_dataset_csv(\"train.csv\")"
   ],
   "metadata": {
    "collapsed": false,
    "pycharm": {
     "name": "#%%\n"
    }
   }
  },
  {
   "cell_type": "code",
   "execution_count": 18,
   "outputs": [
    {
     "data": {
      "text/plain": "3"
     },
     "execution_count": 18,
     "metadata": {},
     "output_type": "execute_result"
    }
   ],
   "source": [],
   "metadata": {
    "collapsed": false,
    "pycharm": {
     "name": "#%%\n"
    }
   }
  },
  {
   "cell_type": "code",
   "execution_count": null,
   "outputs": [],
   "source": [
    "one = []\n",
    "two = []\n",
    "there = []\n",
    "for i in range(len(dataset[\"segmentation\"])):\n",
    "    if dataset[\"segmentation\"]"
   ],
   "metadata": {
    "collapsed": false,
    "pycharm": {
     "name": "#%%\n"
    }
   }
  }
 ],
 "metadata": {
  "kernelspec": {
   "display_name": "Python 3",
   "language": "python",
   "name": "python3"
  },
  "language_info": {
   "codemirror_mode": {
    "name": "ipython",
    "version": 2
   },
   "file_extension": ".py",
   "mimetype": "text/x-python",
   "name": "python",
   "nbconvert_exporter": "python",
   "pygments_lexer": "ipython2",
   "version": "2.7.6"
  }
 },
 "nbformat": 4,
 "nbformat_minor": 0
}