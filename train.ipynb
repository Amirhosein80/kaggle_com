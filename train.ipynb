{
 "cells": [
  {
   "cell_type": "code",
   "execution_count": 1,
   "outputs": [
    {
     "name": "stderr",
     "output_type": "stream",
     "text": [
      "F:\\Users\\amir1\\AppData\\Local\\Programs\\Python\\Python39\\lib\\site-packages\\tqdm\\auto.py:22: TqdmWarning: IProgress not found. Please update jupyter and ipywidgets. See https://ipywidgets.readthedocs.io/en/stable/user_install.html\n",
      "  from .autonotebook import tqdm as notebook_tqdm\n"
     ]
    }
   ],
   "source": [
    "import torch\n",
    "import torch.nn as nn\n",
    "import torch.optim as optim\n",
    "import torch.cuda.amp as amp\n",
    "import tensorboardX as ts\n",
    "import os\n",
    "import matplotlib.pyplot as plt\n",
    "import numpy as np\n",
    "import sys\n",
    "import tqdm.autonotebook as tqdm\n",
    "import logging\n",
    "import torchinfo\n",
    "import gc\n",
    "import copy\n",
    "from torch.utils.data import DataLoader, RandomSampler, SequentialSampler\n",
    "import segmentation_models_pytorch as smp\n",
    "import albumentations as A\n",
    "from model import *\n",
    "from dataset import *\n",
    "from ColonNext import ColonNext\n",
    "from unext import UNext\n",
    "import torch.optim as optim\n",
    "import torch.cuda.amp as amp\n",
    "import logging\n"
   ],
   "metadata": {
    "collapsed": false,
    "pycharm": {
     "name": "#%%\n"
    }
   }
  },
  {
   "cell_type": "code",
   "execution_count": 2,
   "outputs": [],
   "source": [
    "gc.collect()\n",
    "torch.cuda.empty_cache()\n",
    "device = \"cuda\" if torch.cuda.is_available() else \"cpu\"\n",
    "writer = ts.SummaryWriter(\"runs/Unext\")\n",
    "logger = logging.getLogger(\"Unext\")\n",
    "logging.basicConfig(level=logging.INFO)\n",
    "lr = 1e-4\n",
    "momentum = 0.9\n",
    "weight_decay = 1e-5\n",
    "num_workers = 2\n",
    "epoches = 200\n",
    "batch_size = 24"
   ],
   "metadata": {
    "collapsed": false,
    "pycharm": {
     "name": "#%%\n"
    }
   }
  },
  {
   "cell_type": "code",
   "execution_count": 3,
   "outputs": [
    {
     "name": "stdout",
     "output_type": "stream",
     "text": [
      "Load Dataset\n"
     ]
    }
   ],
   "source": [
    "dataset = read_dataset_csv(\"train.csv\")\n",
    "print(\"Load Dataset\")\n",
    "train_transform = A.Compose([\n",
    "    A.Resize(height=256, width=256),\n",
    "    A.RandomRotate90(p=0.5),\n",
    "    A.HorizontalFlip(p=0.5),\n",
    "    A.VerticalFlip(p=0.5),\n",
    "    A.ElasticTransform(p=0.5),\n",
    "])\n",
    "test_transform = A.Compose([\n",
    "    A.Resize(height=256, width=256),\n",
    "])\n",
    "train_ds = UWMDataset(dataframe=dataset[:-(len(dataset) // 25)], transforms=train_transform, num_classes=4)\n",
    "test_ds = UWMDataset(dataframe=dataset[-(len(dataset) // 25):], transforms=test_transform, num_classes=4)\n",
    "train_loader = torch.utils.data.DataLoader(\n",
    "    train_ds,\n",
    "    batch_size=8,\n",
    "    num_workers=num_workers,\n",
    "    shuffle=True,\n",
    ")\n",
    "test_loader = torch.utils.data.DataLoader(\n",
    "    test_ds,\n",
    "    batch_size=1,\n",
    "    num_workers=num_workers,\n",
    "    shuffle=True,\n",
    ")\n",
    "batch_train = next(iter(train_loader))\n",
    "batch_test = next(iter(test_loader))"
   ],
   "metadata": {
    "collapsed": false,
    "pycharm": {
     "name": "#%%\n"
    }
   }
  },
  {
   "cell_type": "code",
   "execution_count": 4,
   "outputs": [],
   "source": [
    "device = \"cuda\" if torch.cuda.is_available() else \"cpu\"\n",
    "# load = torch.load(\"chekpoint/ColonNext_19.pth\")\n",
    "# load[\"acc\"]"
   ],
   "metadata": {
    "collapsed": false,
    "pycharm": {
     "name": "#%%\n"
    }
   }
  },
  {
   "cell_type": "code",
   "execution_count": 5,
   "outputs": [],
   "source": [
    "# teacher = SwinFormer(num_classes=4).to(device)\n",
    "# teacher.load_state_dict(load[\"net_state\"])\n",
    "# teacher = UNext(num_classes=4).to(device)\n",
    "# teacher.load_state_dict(load[\"net\"])\n",
    "model = UNext(4).to(device)"
   ],
   "metadata": {
    "collapsed": false,
    "pycharm": {
     "name": "#%%\n"
    }
   }
  },
  {
   "cell_type": "code",
   "execution_count": 6,
   "outputs": [],
   "source": [
    "loss_func_1 = smp.losses.TverskyLoss(mode=smp.losses.MULTILABEL_MODE).to(device)\n",
    "loss_func_2 = smp.losses.FocalLoss(mode=smp.losses.MULTILABEL_MODE).to(device)"
   ],
   "metadata": {
    "collapsed": false,
    "pycharm": {
     "name": "#%%\n"
    }
   }
  },
  {
   "cell_type": "code",
   "execution_count": 7,
   "outputs": [],
   "source": [
    "# len(dataset)"
   ],
   "metadata": {
    "collapsed": false,
    "pycharm": {
     "name": "#%%\n"
    }
   }
  },
  {
   "cell_type": "code",
   "execution_count": 8,
   "outputs": [
    {
     "name": "stdout",
     "output_type": "stream",
     "text": [
      "===========================================================================================================================================================\n",
      "Layer (type (var_name))                                 Kernel Shape              Output Shape              Param #                   Mult-Adds\n",
      "===========================================================================================================================================================\n",
      "UNext (UNext)                                           --                        [8, 4, 320, 320]          --                        --\n",
      "├─IntermediateLayerGetter (encoder)                     --                        [8, 768, 10, 10]          --                        --\n",
      "│    └─Conv2dNormActivation (0)                         --                        [8, 96, 80, 80]           --                        --\n",
      "│    │    └─Conv2d (0)                                  [4, 4]                    [8, 96, 80, 80]           4,704                     240,844,800\n",
      "│    │    └─LayerNorm2d (1)                             --                        [8, 96, 80, 80]           192                       1,536\n",
      "│    └─Sequential (1)                                   --                        [8, 96, 80, 80]           --                        --\n",
      "│    │    └─CNBlock (0)                                 --                        [8, 96, 80, 80]           79,296                    246,355,200\n",
      "│    │    └─CNBlock (1)                                 --                        [8, 96, 80, 80]           79,296                    246,355,200\n",
      "│    │    └─CNBlock (2)                                 --                        [8, 96, 80, 80]           79,296                    246,355,200\n",
      "│    │    └─SEModule (se)                               --                        [8, 96, 80, 80]           4,728                     37,824\n",
      "│    └─Sequential (2)                                   --                        [8, 192, 40, 40]          --                        --\n",
      "│    │    └─LayerNorm2d (0)                             --                        [8, 96, 80, 80]           192                       1,536\n",
      "│    │    └─Conv2d (1)                                  [2, 2]                    [8, 192, 40, 40]          73,920                    946,176,000\n",
      "│    └─Sequential (3)                                   --                        [8, 192, 40, 40]          --                        --\n",
      "│    │    └─CNBlock (0)                                 --                        [8, 192, 40, 40]          306,048                   125,250,048\n",
      "│    │    └─CNBlock (1)                                 --                        [8, 192, 40, 40]          306,048                   125,250,048\n",
      "│    │    └─CNBlock (2)                                 --                        [8, 192, 40, 40]          306,048                   125,250,048\n",
      "│    │    └─SEModule (se)                               --                        [8, 192, 40, 40]          18,672                    149,376\n",
      "│    └─Sequential (4)                                   --                        [8, 384, 20, 20]          --                        --\n",
      "│    │    └─LayerNorm2d (0)                             --                        [8, 192, 40, 40]          384                       3,072\n",
      "│    │    └─Conv2d (1)                                  [2, 2]                    [8, 384, 20, 20]          295,296                   944,947,200\n",
      "│    └─Sequential (5)                                   --                        [8, 384, 20, 20]          --                        --\n",
      "│    │    └─CNBlock (0)                                 --                        [8, 384, 20, 20]          1,201,920                 70,898,688\n",
      "│    │    └─CNBlock (1)                                 --                        [8, 384, 20, 20]          1,201,920                 70,898,688\n",
      "│    │    └─CNBlock (2)                                 --                        [8, 384, 20, 20]          1,201,920                 70,898,688\n",
      "│    │    └─CNBlock (3)                                 --                        [8, 384, 20, 20]          1,201,920                 70,898,688\n",
      "│    │    └─CNBlock (4)                                 --                        [8, 384, 20, 20]          1,201,920                 70,898,688\n",
      "│    │    └─CNBlock (5)                                 --                        [8, 384, 20, 20]          1,201,920                 70,898,688\n",
      "│    │    └─CNBlock (6)                                 --                        [8, 384, 20, 20]          1,201,920                 70,898,688\n",
      "│    │    └─CNBlock (7)                                 --                        [8, 384, 20, 20]          1,201,920                 70,898,688\n",
      "│    │    └─CNBlock (8)                                 --                        [8, 384, 20, 20]          1,201,920                 70,898,688\n",
      "│    │    └─SEModule (se)                               --                        [8, 384, 20, 20]          74,208                    593,664\n",
      "│    └─Sequential (6)                                   --                        [8, 768, 10, 10]          --                        --\n",
      "│    │    └─LayerNorm2d (0)                             --                        [8, 384, 20, 20]          768                       6,144\n",
      "│    │    └─Conv2d (1)                                  [2, 2]                    [8, 768, 10, 10]          1,180,416                 944,332,800\n",
      "│    └─Sequential (7)                                   --                        [8, 768, 10, 10]          --                        --\n",
      "│    │    └─CNBlock (0)                                 --                        [8, 768, 10, 10]          4,763,136                 68,511,744\n",
      "│    │    └─CNBlock (1)                                 --                        [8, 768, 10, 10]          4,763,136                 68,511,744\n",
      "│    │    └─CNBlock (2)                                 --                        [8, 768, 10, 10]          4,763,136                 68,511,744\n",
      "├─ASPP (bridge)                                         --                        [8, 768, 10, 10]          --                        --\n",
      "│    └─Sequential (aspp1)                               --                        [8, 768, 10, 10]          --                        --\n",
      "│    │    └─LayerNormalization (0)                      --                        [8, 768, 10, 10]          1,536                     12,288\n",
      "│    │    └─Conv2d (1)                                  [3, 3]                    [8, 768, 10, 10]          5,309,184                 4,247,347,200\n",
      "│    │    └─GELU (2)                                    --                        [8, 768, 10, 10]          --                        --\n",
      "│    └─Sequential (aspp2)                               --                        [8, 768, 10, 10]          --                        --\n",
      "│    │    └─LayerNormalization (0)                      --                        [8, 768, 10, 10]          1,536                     12,288\n",
      "│    │    └─Conv2d (1)                                  [3, 3]                    [8, 768, 10, 10]          5,309,184                 4,247,347,200\n",
      "│    │    └─GELU (2)                                    --                        [8, 768, 10, 10]          --                        --\n",
      "│    └─Sequential (aspp3)                               --                        [8, 768, 10, 10]          --                        --\n",
      "│    │    └─LayerNormalization (0)                      --                        [8, 768, 10, 10]          1,536                     12,288\n",
      "│    │    └─Conv2d (1)                                  [3, 3]                    [8, 768, 10, 10]          5,309,184                 4,247,347,200\n",
      "│    │    └─GELU (2)                                    --                        [8, 768, 10, 10]          --                        --\n",
      "│    └─Conv2d (cat)                                     [1, 1]                    [8, 768, 10, 10]          2,360,064                 1,888,051,200\n",
      "├─Sequential (head4)                                    --                        [8, 4, 320, 320]          --                        --\n",
      "│    └─Linear (0)                                       --                        [8, 96, 10, 10]           --                        --\n",
      "│    │    └─Permute (permute1)                          --                        [8, 10, 10, 768]          --                        --\n",
      "│    │    └─Linear (linear)                             --                        [8, 10, 10, 96]           73,824                    590,592\n",
      "│    │    └─Permute (permute2)                          --                        [8, 96, 10, 10]           --                        --\n",
      "│    └─ConvTranspose2d (1)                              [32, 32]                  [8, 96, 320, 320]         9,437,280                 7,731,019,776,000\n",
      "│    └─Linear (2)                                       --                        [8, 4, 320, 320]          --                        --\n",
      "│    │    └─Permute (permute1)                          --                        [8, 320, 320, 96]         --                        --\n",
      "│    │    └─Linear (linear)                             --                        [8, 320, 320, 4]          388                       3,104\n",
      "│    │    └─Permute (permute2)                          --                        [8, 4, 320, 320]          --                        --\n",
      "├─Attention (atten3)                                    --                        [8, 384, 10, 10]          --                        --\n",
      "│    └─Sequential (conv1)                               --                        [8, 384, 10, 10]          --                        --\n",
      "│    │    └─LayerNormalization (0)                      --                        [8, 768, 10, 10]          1,536                     12,288\n",
      "│    │    └─Conv2d (1)                                  [3, 3]                    [8, 384, 10, 10]          2,654,592                 2,123,673,600\n",
      "│    │    └─GELU (2)                                    --                        [8, 384, 10, 10]          --                        --\n",
      "│    └─Sequential (conv2)                               --                        [8, 384, 20, 20]          --                        --\n",
      "│    │    └─LayerNormalization (0)                      --                        [8, 384, 20, 20]          768                       6,144\n",
      "│    │    └─Conv2d (1)                                  [3, 3]                    [8, 384, 20, 20]          1,327,488                 4,247,961,600\n",
      "│    │    └─GELU (2)                                    --                        [8, 384, 20, 20]          --                        --\n",
      "│    └─Sequential (dconv)                               --                        [8, 384, 10, 10]          --                        --\n",
      "│    │    └─LayerNormalization (0)                      --                        [8, 384, 20, 20]          768                       6,144\n",
      "│    │    └─Conv2d (1)                                  [2, 2]                    [8, 384, 10, 10]          590,208                   472,166,400\n",
      "│    └─Sequential (conv3)                               --                        [8, 384, 10, 10]          --                        --\n",
      "│    │    └─LayerNormalization (0)                      --                        [8, 384, 10, 10]          768                       6,144\n",
      "│    │    └─Conv2d (1)                                  [3, 3]                    [8, 384, 10, 10]          1,327,488                 1,061,990,400\n",
      "│    │    └─GELU (2)                                    --                        [8, 384, 10, 10]          --                        --\n",
      "├─Sequential (up3)                                      --                        [8, 384, 20, 20]          --                        --\n",
      "│    └─LayerNormalization (0)                           --                        [8, 384, 10, 10]          --                        --\n",
      "│    │    └─Permute (permute1)                          --                        [8, 10, 10, 384]          --                        --\n",
      "│    │    └─LayerNorm (norm)                            --                        [8, 10, 10, 384]          768                       6,144\n",
      "│    │    └─Permute (permute2)                          --                        [8, 384, 10, 10]          --                        --\n",
      "│    └─ConvTranspose2d (1)                              [2, 2]                    [8, 384, 20, 20]          590,208                   1,888,665,600\n",
      "├─Linear (cat3)                                         --                        [8, 384, 20, 20]          --                        --\n",
      "│    └─Permute (permute1)                               --                        [8, 20, 20, 768]          --                        --\n",
      "│    └─Linear (linear)                                  --                        [8, 20, 20, 384]          295,296                   2,362,368\n",
      "│    └─Permute (permute2)                               --                        [8, 384, 20, 20]          --                        --\n",
      "├─Sequential (block3)                                   --                        [8, 384, 20, 20]          --                        --\n",
      "│    └─CNBlock (0)                                      --                        [8, 384, 20, 20]          384                       --\n",
      "│    │    └─Sequential (block)                          --                        [8, 384, 20, 20]          1,201,536                 70,898,688\n",
      "│    │    └─StochasticDepth (stochastic_depth)          --                        [8, 384, 20, 20]          --                        --\n",
      "│    └─CNBlock (1)                                      --                        [8, 384, 20, 20]          384                       --\n",
      "│    │    └─Sequential (block)                          --                        [8, 384, 20, 20]          1,201,536                 70,898,688\n",
      "│    │    └─StochasticDepth (stochastic_depth)          --                        [8, 384, 20, 20]          --                        --\n",
      "│    └─CNBlock (2)                                      --                        [8, 384, 20, 20]          384                       --\n",
      "│    │    └─Sequential (block)                          --                        [8, 384, 20, 20]          1,201,536                 70,898,688\n",
      "│    │    └─StochasticDepth (stochastic_depth)          --                        [8, 384, 20, 20]          --                        --\n",
      "│    └─CNBlock (3)                                      --                        [8, 384, 20, 20]          384                       --\n",
      "│    │    └─Sequential (block)                          --                        [8, 384, 20, 20]          1,201,536                 70,898,688\n",
      "│    │    └─StochasticDepth (stochastic_depth)          --                        [8, 384, 20, 20]          --                        --\n",
      "│    └─CNBlock (4)                                      --                        [8, 384, 20, 20]          384                       --\n",
      "│    │    └─Sequential (block)                          --                        [8, 384, 20, 20]          1,201,536                 70,898,688\n",
      "│    │    └─StochasticDepth (stochastic_depth)          --                        [8, 384, 20, 20]          --                        --\n",
      "│    └─CNBlock (5)                                      --                        [8, 384, 20, 20]          384                       --\n",
      "│    │    └─Sequential (block)                          --                        [8, 384, 20, 20]          1,201,536                 70,898,688\n",
      "│    │    └─StochasticDepth (stochastic_depth)          --                        [8, 384, 20, 20]          --                        --\n",
      "│    └─CNBlock (6)                                      --                        [8, 384, 20, 20]          384                       --\n",
      "│    │    └─Sequential (block)                          --                        [8, 384, 20, 20]          1,201,536                 70,898,688\n",
      "│    │    └─StochasticDepth (stochastic_depth)          --                        [8, 384, 20, 20]          --                        --\n",
      "│    └─CNBlock (7)                                      --                        [8, 384, 20, 20]          384                       --\n",
      "│    │    └─Sequential (block)                          --                        [8, 384, 20, 20]          1,201,536                 70,898,688\n",
      "│    │    └─StochasticDepth (stochastic_depth)          --                        [8, 384, 20, 20]          --                        --\n",
      "│    └─CNBlock (8)                                      --                        [8, 384, 20, 20]          384                       --\n",
      "│    │    └─Sequential (block)                          --                        [8, 384, 20, 20]          1,201,536                 70,898,688\n",
      "│    │    └─StochasticDepth (stochastic_depth)          --                        [8, 384, 20, 20]          --                        --\n",
      "├─Sequential (head3)                                    --                        [8, 4, 320, 320]          --                        --\n",
      "│    └─Linear (0)                                       --                        [8, 96, 20, 20]           --                        --\n",
      "│    │    └─Permute (permute1)                          --                        [8, 20, 20, 384]          --                        --\n",
      "│    │    └─Linear (linear)                             --                        [8, 20, 20, 96]           36,960                    295,680\n",
      "│    │    └─Permute (permute2)                          --                        [8, 96, 20, 20]           --                        --\n",
      "│    └─ASPP (1)                                         --                        [8, 96, 20, 20]           --                        --\n",
      "│    │    └─Sequential (aspp1)                          --                        [8, 96, 20, 20]           83,232                    265,729,536\n",
      "│    │    └─Sequential (aspp2)                          --                        [8, 96, 20, 20]           83,232                    265,729,536\n",
      "│    │    └─Sequential (aspp3)                          --                        [8, 96, 20, 20]           83,232                    265,729,536\n",
      "│    │    └─Conv2d (cat)                                [1, 1]                    [8, 96, 20, 20]           36,960                    118,272,000\n",
      "│    └─ConvTranspose2d (2)                              [16, 16]                  [8, 96, 320, 320]         2,359,392                 1,932,813,926,400\n",
      "│    └─Linear (3)                                       --                        [8, 4, 320, 320]          --                        --\n",
      "│    │    └─Permute (permute1)                          --                        [8, 320, 320, 96]         --                        --\n",
      "│    │    └─Linear (linear)                             --                        [8, 320, 320, 4]          388                       3,104\n",
      "│    │    └─Permute (permute2)                          --                        [8, 4, 320, 320]          --                        --\n",
      "├─Attention (atten2)                                    --                        [8, 192, 20, 20]          --                        --\n",
      "│    └─Sequential (conv1)                               --                        [8, 192, 20, 20]          --                        --\n",
      "│    │    └─LayerNormalization (0)                      --                        [8, 384, 20, 20]          768                       6,144\n",
      "│    │    └─Conv2d (1)                                  [3, 3]                    [8, 192, 20, 20]          663,744                   2,123,980,800\n",
      "│    │    └─GELU (2)                                    --                        [8, 192, 20, 20]          --                        --\n",
      "│    └─Sequential (conv2)                               --                        [8, 192, 40, 40]          --                        --\n",
      "│    │    └─LayerNormalization (0)                      --                        [8, 192, 40, 40]          384                       3,072\n",
      "│    │    └─Conv2d (1)                                  [3, 3]                    [8, 192, 40, 40]          331,968                   4,249,190,400\n",
      "│    │    └─GELU (2)                                    --                        [8, 192, 40, 40]          --                        --\n",
      "│    └─Sequential (dconv)                               --                        [8, 192, 20, 20]          --                        --\n",
      "│    │    └─LayerNormalization (0)                      --                        [8, 192, 40, 40]          384                       3,072\n",
      "│    │    └─Conv2d (1)                                  [2, 2]                    [8, 192, 20, 20]          147,648                   472,473,600\n",
      "│    └─Sequential (conv3)                               --                        [8, 192, 20, 20]          --                        --\n",
      "│    │    └─LayerNormalization (0)                      --                        [8, 192, 20, 20]          384                       3,072\n",
      "│    │    └─Conv2d (1)                                  [3, 3]                    [8, 192, 20, 20]          331,968                   1,062,297,600\n",
      "│    │    └─GELU (2)                                    --                        [8, 192, 20, 20]          --                        --\n",
      "├─Sequential (up2)                                      --                        [8, 192, 40, 40]          --                        --\n",
      "│    └─LayerNormalization (0)                           --                        [8, 192, 20, 20]          --                        --\n",
      "│    │    └─Permute (permute1)                          --                        [8, 20, 20, 192]          --                        --\n",
      "│    │    └─LayerNorm (norm)                            --                        [8, 20, 20, 192]          384                       3,072\n",
      "│    │    └─Permute (permute2)                          --                        [8, 192, 20, 20]          --                        --\n",
      "│    └─ConvTranspose2d (1)                              [2, 2]                    [8, 192, 40, 40]          147,648                   1,889,894,400\n",
      "├─Linear (cat2)                                         --                        [8, 192, 40, 40]          --                        --\n",
      "│    └─Permute (permute1)                               --                        [8, 40, 40, 384]          --                        --\n",
      "│    └─Linear (linear)                                  --                        [8, 40, 40, 192]          73,920                    591,360\n",
      "│    └─Permute (permute2)                               --                        [8, 192, 40, 40]          --                        --\n",
      "├─Sequential (block2)                                   --                        [8, 192, 40, 40]          --                        --\n",
      "│    └─CNBlock (0)                                      --                        [8, 192, 40, 40]          192                       --\n",
      "│    │    └─Sequential (block)                          --                        [8, 192, 40, 40]          305,856                   125,250,048\n",
      "│    │    └─StochasticDepth (stochastic_depth)          --                        [8, 192, 40, 40]          --                        --\n",
      "│    └─CNBlock (1)                                      --                        [8, 192, 40, 40]          192                       --\n",
      "│    │    └─Sequential (block)                          --                        [8, 192, 40, 40]          305,856                   125,250,048\n",
      "│    │    └─StochasticDepth (stochastic_depth)          --                        [8, 192, 40, 40]          --                        --\n",
      "│    └─CNBlock (2)                                      --                        [8, 192, 40, 40]          192                       --\n",
      "│    │    └─Sequential (block)                          --                        [8, 192, 40, 40]          305,856                   125,250,048\n",
      "│    │    └─StochasticDepth (stochastic_depth)          --                        [8, 192, 40, 40]          --                        --\n",
      "├─Sequential (head2)                                    --                        [8, 4, 320, 320]          --                        --\n",
      "│    └─Linear (0)                                       --                        [8, 96, 40, 40]           --                        --\n",
      "│    │    └─Permute (permute1)                          --                        [8, 40, 40, 192]          --                        --\n",
      "│    │    └─Linear (linear)                             --                        [8, 40, 40, 96]           18,528                    148,224\n",
      "│    │    └─Permute (permute2)                          --                        [8, 96, 40, 40]           --                        --\n",
      "│    └─ASPP (1)                                         --                        [8, 96, 40, 40]           --                        --\n",
      "│    │    └─Sequential (aspp1)                          --                        [8, 96, 40, 40]           83,232                    1,062,913,536\n",
      "│    │    └─Sequential (aspp2)                          --                        [8, 96, 40, 40]           83,232                    1,062,913,536\n",
      "│    │    └─Sequential (aspp3)                          --                        [8, 96, 40, 40]           83,232                    1,062,913,536\n",
      "│    │    └─Conv2d (cat)                                [1, 1]                    [8, 96, 40, 40]           36,960                    473,088,000\n",
      "│    └─ConvTranspose2d (2)                              [8, 8]                    [8, 96, 320, 320]         589,920                   483,262,464,000\n",
      "│    └─Linear (3)                                       --                        [8, 4, 320, 320]          --                        --\n",
      "│    │    └─Permute (permute1)                          --                        [8, 320, 320, 96]         --                        --\n",
      "│    │    └─Linear (linear)                             --                        [8, 320, 320, 4]          388                       3,104\n",
      "│    │    └─Permute (permute2)                          --                        [8, 4, 320, 320]          --                        --\n",
      "├─Attention (atten1)                                    --                        [8, 96, 40, 40]           --                        --\n",
      "│    └─Sequential (conv1)                               --                        [8, 96, 40, 40]           --                        --\n",
      "│    │    └─LayerNormalization (0)                      --                        [8, 192, 40, 40]          384                       3,072\n",
      "│    │    └─Conv2d (1)                                  [3, 3]                    [8, 96, 40, 40]           165,984                   2,124,595,200\n",
      "│    │    └─GELU (2)                                    --                        [8, 96, 40, 40]           --                        --\n",
      "│    └─Sequential (conv2)                               --                        [8, 96, 80, 80]           --                        --\n",
      "│    │    └─LayerNormalization (0)                      --                        [8, 96, 80, 80]           192                       1,536\n",
      "│    │    └─Conv2d (1)                                  [3, 3]                    [8, 96, 80, 80]           83,040                    4,251,648,000\n",
      "│    │    └─GELU (2)                                    --                        [8, 96, 80, 80]           --                        --\n",
      "│    └─Sequential (dconv)                               --                        [8, 96, 40, 40]           --                        --\n",
      "│    │    └─LayerNormalization (0)                      --                        [8, 96, 80, 80]           192                       1,536\n",
      "│    │    └─Conv2d (1)                                  [2, 2]                    [8, 96, 40, 40]           36,960                    473,088,000\n",
      "│    └─Sequential (conv3)                               --                        [8, 96, 40, 40]           --                        --\n",
      "│    │    └─LayerNormalization (0)                      --                        [8, 96, 40, 40]           192                       1,536\n",
      "│    │    └─Conv2d (1)                                  [3, 3]                    [8, 96, 40, 40]           83,040                    1,062,912,000\n",
      "│    │    └─GELU (2)                                    --                        [8, 96, 40, 40]           --                        --\n",
      "├─Sequential (up1)                                      --                        [8, 96, 80, 80]           --                        --\n",
      "│    └─LayerNormalization (0)                           --                        [8, 96, 40, 40]           --                        --\n",
      "│    │    └─Permute (permute1)                          --                        [8, 40, 40, 96]           --                        --\n",
      "│    │    └─LayerNorm (norm)                            --                        [8, 40, 40, 96]           192                       1,536\n",
      "│    │    └─Permute (permute2)                          --                        [8, 96, 40, 40]           --                        --\n",
      "│    └─ConvTranspose2d (1)                              [2, 2]                    [8, 96, 80, 80]           36,960                    1,892,352,000\n",
      "├─Linear (cat1)                                         --                        [8, 96, 80, 80]           --                        --\n",
      "│    └─Permute (permute1)                               --                        [8, 80, 80, 192]          --                        --\n",
      "│    └─Linear (linear)                                  --                        [8, 80, 80, 96]           18,528                    148,224\n",
      "│    └─Permute (permute2)                               --                        [8, 96, 80, 80]           --                        --\n",
      "├─Sequential (block1)                                   --                        [8, 96, 80, 80]           --                        --\n",
      "│    └─CNBlock (0)                                      --                        [8, 96, 80, 80]           96                        --\n",
      "│    │    └─Sequential (block)                          --                        [8, 96, 80, 80]           79,200                    246,355,200\n",
      "│    │    └─StochasticDepth (stochastic_depth)          --                        [8, 96, 80, 80]           --                        --\n",
      "│    └─CNBlock (1)                                      --                        [8, 96, 80, 80]           96                        --\n",
      "│    │    └─Sequential (block)                          --                        [8, 96, 80, 80]           79,200                    246,355,200\n",
      "│    │    └─StochasticDepth (stochastic_depth)          --                        [8, 96, 80, 80]           --                        --\n",
      "│    └─CNBlock (2)                                      --                        [8, 96, 80, 80]           96                        --\n",
      "│    │    └─Sequential (block)                          --                        [8, 96, 80, 80]           79,200                    246,355,200\n",
      "│    │    └─StochasticDepth (stochastic_depth)          --                        [8, 96, 80, 80]           --                        --\n",
      "├─Sequential (head)                                     --                        [8, 4, 320, 320]          --                        --\n",
      "│    └─LayerNormalization (0)                           --                        [8, 96, 80, 80]           --                        --\n",
      "│    │    └─Permute (permute1)                          --                        [8, 80, 80, 96]           --                        --\n",
      "│    │    └─LayerNorm (norm)                            --                        [8, 80, 80, 96]           192                       1,536\n",
      "│    │    └─Permute (permute2)                          --                        [8, 96, 80, 80]           --                        --\n",
      "│    └─ASPP (1)                                         --                        [8, 96, 80, 80]           --                        --\n",
      "│    │    └─Sequential (aspp1)                          --                        [8, 96, 80, 80]           83,232                    4,251,649,536\n",
      "│    │    └─Sequential (aspp2)                          --                        [8, 96, 80, 80]           83,232                    4,251,649,536\n",
      "│    │    └─Sequential (aspp3)                          --                        [8, 96, 80, 80]           83,232                    4,251,649,536\n",
      "│    │    └─Conv2d (cat)                                [1, 1]                    [8, 96, 80, 80]           36,960                    1,892,352,000\n",
      "│    └─ConvTranspose2d (2)                              [4, 4]                    [8, 96, 320, 320]         147,552                   120,874,598,400\n",
      "│    └─Linear (3)                                       --                        [8, 4, 320, 320]          --                        --\n",
      "│    │    └─Permute (permute1)                          --                        [8, 320, 320, 96]         --                        --\n",
      "│    │    └─Linear (linear)                             --                        [8, 320, 320, 4]          388                       3,104\n",
      "│    │    └─Permute (permute2)                          --                        [8, 4, 320, 320]          --                        --\n",
      "===========================================================================================================================================================\n",
      "Total params: 80,621,656\n",
      "Trainable params: 80,621,656\n",
      "Non-trainable params: 0\n",
      "Total mult-adds (T): 10.34\n",
      "===========================================================================================================================================================\n",
      "Input size (MB): 9.83\n",
      "Forward/backward pass size (MB): 7534.85\n",
      "Params size (MB): 322.44\n",
      "Estimated Total Size (MB): 7867.12\n",
      "===========================================================================================================================================================\n"
     ]
    }
   ],
   "source": [
    "print(torchinfo.summary(model, (8, 3, 320, 320), device=device,\n",
    "                            col_names=[\"kernel_size\", \"output_size\", \"num_params\", \"mult_adds\"],\n",
    "                            row_settings=[\"var_names\"], ))"
   ],
   "metadata": {
    "collapsed": false,
    "pycharm": {
     "name": "#%%\n"
    }
   }
  },
  {
   "cell_type": "code",
   "execution_count": 9,
   "outputs": [],
   "source": [
    "def structure_loss(pred, mask):\n",
    "\n",
    "    weit = 1 + 5*torch.abs(F.avg_pool2d(mask, kernel_size=31, stride=1, padding=15) - mask)\n",
    "    wbce = F.binary_cross_entropy_with_logits(pred, mask, reduce='none')\n",
    "    wbce = (weit*wbce).sum(dim=(2, 3)) / weit.sum(dim=(2, 3))\n",
    "\n",
    "    pred = torch.sigmoid(pred)\n",
    "    inter = ((pred * mask)*weit).sum(dim=(2, 3))\n",
    "    union = ((pred + mask)*weit).sum(dim=(2, 3))\n",
    "    wiou = 1 - (inter + 1)/(union - inter+1)\n",
    "\n",
    "    return (wbce + wiou).mean()"
   ],
   "metadata": {
    "collapsed": false,
    "pycharm": {
     "name": "#%%\n"
    }
   }
  },
  {
   "cell_type": "code",
   "execution_count": 10,
   "outputs": [],
   "source": [
    "def metrics(out, targets):\n",
    "    tp, fp, fn, tn = smp.metrics.get_stats(out, targets.to(device), mode=smp.losses.MULTILABEL_MODE, threshold=0.5)\n",
    "    return smp.metrics.iou_score(tp, fp, fn, tn, reduction=\"micro\")"
   ],
   "metadata": {
    "collapsed": false,
    "pycharm": {
     "name": "#%%\n"
    }
   }
  },
  {
   "cell_type": "code",
   "execution_count": 11,
   "outputs": [],
   "source": [
    "def dice_coef(y_true, y_pred, thr=0.5, dim=(2,3), epsilon=0.001):\n",
    "    y_true = y_true.to(torch.float32)\n",
    "    y_pred = (y_pred>thr).to(torch.float32)\n",
    "    inter = (y_true*y_pred).sum(dim=dim)\n",
    "    den = y_true.sum(dim=dim) + y_pred.sum(dim=dim)\n",
    "    dice = ((2*inter+epsilon)/(den+epsilon)).mean(dim=(1,0))\n",
    "    return dice"
   ],
   "metadata": {
    "collapsed": false,
    "pycharm": {
     "name": "#%%\n"
    }
   }
  },
  {
   "cell_type": "code",
   "execution_count": 12,
   "outputs": [],
   "source": [
    "def criterion(output, targets):\n",
    "    losses = 0\n",
    "    for out in output.values():\n",
    "        # losses += structure_loss(pred=out.contiguous(), mask=targets.float().to(device))\n",
    "        losses += loss_func_1(y_pred=out.contiguous(), y_true=targets.to(device)) * 0.5\n",
    "        losses += loss_func_2(y_pred=out.contiguous(), y_true=targets.to(device)) * 0.5\n",
    "    return losses"
   ],
   "metadata": {
    "collapsed": false,
    "pycharm": {
     "name": "#%%\n"
    }
   }
  },
  {
   "cell_type": "code",
   "execution_count": 12,
   "outputs": [],
   "source": [],
   "metadata": {
    "collapsed": false,
    "pycharm": {
     "name": "#%%\n"
    }
   }
  },
  {
   "cell_type": "code",
   "execution_count": 13,
   "outputs": [],
   "source": [
    "optimizer = optim.Adam(model.parameters(), lr=1e-4)\n",
    "scheduler = torch.optim.lr_scheduler.CosineAnnealingLR(optimizer, T_max=6000, eta_min=1e-6)\n",
    "scaler = amp.GradScaler()\n",
    "# scaler.load_state_dict(load[\"scaler\"])\n",
    "# optimizer.load_state_dict(load[\"optimizer\"])\n",
    "# scheduler.load_state_dict(load[\"scheduler\"])"
   ],
   "metadata": {
    "collapsed": false,
    "pycharm": {
     "name": "#%%\n"
    }
   }
  },
  {
   "cell_type": "code",
   "execution_count": 14,
   "outputs": [],
   "source": [
    "class AverageMeter(object):\n",
    "    def __init__(self):\n",
    "        self.reset()\n",
    "\n",
    "    def reset(self):\n",
    "        self.val = 0\n",
    "        self.avg = 0\n",
    "        self.sum = 0\n",
    "        self.count = 0\n",
    "\n",
    "    def update(self, val, n=1):\n",
    "        self.val = val\n",
    "        self.sum += val * n\n",
    "        self.count += n\n",
    "        self.avg = self.sum / self.count"
   ],
   "metadata": {
    "collapsed": false,
    "pycharm": {
     "name": "#%%\n"
    }
   }
  },
  {
   "cell_type": "code",
   "execution_count": 15,
   "outputs": [],
   "source": [
    "def overfit_test():\n",
    "    overfitimg, overfitlabels = next(iter(train_loader))\n",
    "    overfitimg = overfitimg.float().to(device)\n",
    "    overfitlabels = overfitlabels.to(device)\n",
    "    for i in range(25):\n",
    "        model.train()\n",
    "        loss_total = AverageMeter()\n",
    "        metric_total = AverageMeter()\n",
    "        with torch.cuda.amp.autocast():\n",
    "            outputs = model(overfitimg)\n",
    "            loss = criterion(outputs, overfitlabels)\n",
    "            metric = dice_coef(y_pred=outputs[\"out1\"], y_true=overfitlabels)\n",
    "        optimizer.zero_grad()\n",
    "        scaler.scale(loss).backward()\n",
    "        scaler.step(optimizer)\n",
    "        scaler.update()\n",
    "        loss_total.update(loss)\n",
    "        metric_total.update(metric)\n",
    "        torch.cuda.empty_cache()\n",
    "        logger.info(f'Overfit Test: Epoch:{i} Loss:{loss_total.avg:.4}, Metric:{metric_total.avg:.4} ')"
   ],
   "metadata": {
    "collapsed": false,
    "pycharm": {
     "name": "#%%\n"
    }
   }
  },
  {
   "cell_type": "code",
   "source": [
    "# overfit_test()"
   ],
   "metadata": {
    "collapsed": false,
    "pycharm": {
     "name": "#%%\n"
    }
   },
   "execution_count": 16,
   "outputs": []
  },
  {
   "cell_type": "code",
   "execution_count": 17,
   "outputs": [],
   "source": [
    "def train(epoch, net, trainloader, criterion, optimizer, scaler, scheduler, name):\n",
    "    net.train()\n",
    "    loss_total = AverageMeter()\n",
    "    metric_total = AverageMeter()\n",
    "    loop = tqdm.tqdm(trainloader, total=len(trainloader))\n",
    "    for batch_idx, (inputs, targets) in enumerate(loop):\n",
    "        inputs, targets = inputs.float().to(device), targets.to(device)\n",
    "        with torch.cuda.amp.autocast():\n",
    "            outputs = model(inputs)\n",
    "            loss = criterion(outputs, targets)\n",
    "            metric = dice_coef(y_pred=outputs[\"out1\"], y_true=targets)\n",
    "        optimizer.zero_grad()\n",
    "        scaler.scale(loss).backward()\n",
    "        scaler.step(optimizer)\n",
    "        scaler.update()\n",
    "        loss_total.update(loss)\n",
    "        metric_total.update(metric)\n",
    "        scheduler.step()\n",
    "        torch.cuda.empty_cache()\n",
    "        loop.set_description(f'Train: Epoch:{epoch} Loss:{loss_total.avg:.4} Metric:{metric_total.avg:.4} ')\n",
    "\n",
    "    writer.add_scalar('Loss/train', loss_total.avg.item(), epoch)\n",
    "    writer.add_scalar('Metric/train', metric_total.avg.item(), epoch)\n",
    "    logger.info(f'Train: Epoch:{epoch} Loss:{loss_total.avg:.4} Metric:{metric_total.avg:.4} ')\n",
    "    return net\n",
    "\n",
    "\n",
    "def test(epoch, net, testloader, criterion, scaler, optimizer, scheduler, checkpoint, name):\n",
    "    net.eval()\n",
    "    loss_total = AverageMeter()\n",
    "    metric_total = AverageMeter()\n",
    "    with torch.no_grad():\n",
    "        loop = tqdm.tqdm(testloader, total=len(testloader))\n",
    "        for batch_idx, (inputs, targets) in enumerate(loop):\n",
    "            inputs, targets = inputs.float().to(device), targets.to(device)\n",
    "            with torch.cuda.amp.autocast():\n",
    "                outputs = net(inputs)\n",
    "                loss = criterion(outputs, targets)\n",
    "                metric = dice_coef(y_pred=outputs[\"out1\"], y_true=targets)\n",
    "            loss_total.update(loss)\n",
    "            metric_total.update(metric)\n",
    "            loop.set_description(f'Train: Test:{epoch} Loss:{loss_total.avg:.4} Metric:{metric_total.avg:.4} ')\n",
    "        writer.add_scalar('Loss/test', loss_total.avg.item(), epoch)\n",
    "        writer.add_scalar('Metric/test', metric_total.avg.item(), epoch)\n",
    "        logger.info(f'Test:  Epoch:{epoch} Loss:{loss_total.avg:.4}  Metric:{metric_total.avg:.4} ')\n",
    "\n",
    "    # Save checkpoint\n",
    "    checkpoint.save(net=net, acc=metric_total.avg.item(), filename=name, scaler=scaler, epoch=epoch, optimizer=optimizer, scheduler=scheduler)\n",
    "    torch.cuda.empty_cache()\n",
    "    print()\n",
    "\n",
    "\n",
    "class Checkpoint(object):\n",
    "    def __init__(self):\n",
    "        self.best_acc = 0.\n",
    "        self.folder = 'chekpoint'\n",
    "        os.makedirs(self.folder, exist_ok=True)\n",
    "\n",
    "    def save(self, net, acc, filename, scaler, optimizer, scheduler, epoch=-1):\n",
    "        if acc > self.best_acc:\n",
    "            logger.info('Saving checkpoint...')\n",
    "            state = {\n",
    "                'net': net.state_dict(),\n",
    "                'acc': acc,\n",
    "                'epoch': epoch,\n",
    "                'scaler': scaler.state_dict(),\n",
    "                'optimizer': optimizer.state_dict(),\n",
    "                'scheduler': scheduler.state_dict(),\n",
    "            }\n",
    "            path = os.path.join(os.path.abspath(self.folder), f\"{filename}_{epoch}\" + '.pth')\n",
    "            torch.save(state, path)\n",
    "            self.best_acc = acc\n",
    "\n",
    "    def load(self, net):\n",
    "        pass"
   ],
   "metadata": {
    "collapsed": false,
    "pycharm": {
     "name": "#%%\n"
    }
   }
  },
  {
   "cell_type": "code",
   "execution_count": 17,
   "outputs": [],
   "source": [],
   "metadata": {
    "collapsed": false,
    "pycharm": {
     "name": "#%%\n"
    }
   }
  },
  {
   "cell_type": "code",
   "execution_count": 18,
   "outputs": [
    {
     "name": "stderr",
     "output_type": "stream",
     "text": [
      "Train: Epoch:0 Loss:0.9764 Metric:0.6299 :  72%|███████▏  | 1432/1991 [08:20<03:15,  2.86it/s]\n"
     ]
    },
    {
     "ename": "KeyboardInterrupt",
     "evalue": "",
     "output_type": "error",
     "traceback": [
      "\u001B[1;31m---------------------------------------------------------------------------\u001B[0m",
      "\u001B[1;31mKeyboardInterrupt\u001B[0m                         Traceback (most recent call last)",
      "Input \u001B[1;32mIn [18]\u001B[0m, in \u001B[0;36m<cell line: 3>\u001B[1;34m()\u001B[0m\n\u001B[0;32m      2\u001B[0m start, end \u001B[38;5;241m=\u001B[39m \u001B[38;5;241m0\u001B[39m, \u001B[38;5;241m50\u001B[39m\n\u001B[0;32m      3\u001B[0m \u001B[38;5;28;01mfor\u001B[39;00m epoch \u001B[38;5;129;01min\u001B[39;00m \u001B[38;5;28mrange\u001B[39m(start, end):\n\u001B[1;32m----> 4\u001B[0m     teacher \u001B[38;5;241m=\u001B[39m \u001B[43mtrain\u001B[49m\u001B[43m(\u001B[49m\u001B[43mepoch\u001B[49m\u001B[38;5;241;43m=\u001B[39;49m\u001B[43mepoch\u001B[49m\u001B[43m,\u001B[49m\u001B[43m \u001B[49m\u001B[43mnet\u001B[49m\u001B[38;5;241;43m=\u001B[39;49m\u001B[43mmodel\u001B[49m\u001B[43m,\u001B[49m\u001B[43m \u001B[49m\u001B[43mtrainloader\u001B[49m\u001B[38;5;241;43m=\u001B[39;49m\u001B[43mtrain_loader\u001B[49m\u001B[43m,\u001B[49m\u001B[43m \u001B[49m\u001B[43mcriterion\u001B[49m\u001B[38;5;241;43m=\u001B[39;49m\u001B[43mcriterion\u001B[49m\u001B[43m,\u001B[49m\u001B[43m \u001B[49m\u001B[43mscaler\u001B[49m\u001B[38;5;241;43m=\u001B[39;49m\u001B[43mscaler\u001B[49m\u001B[43m,\u001B[49m\n\u001B[0;32m      5\u001B[0m \u001B[43m        \u001B[49m\u001B[43moptimizer\u001B[49m\u001B[38;5;241;43m=\u001B[39;49m\u001B[43moptimizer\u001B[49m\u001B[43m,\u001B[49m\u001B[43m \u001B[49m\u001B[43mscheduler\u001B[49m\u001B[38;5;241;43m=\u001B[39;49m\u001B[43mscheduler\u001B[49m\u001B[43m,\u001B[49m\u001B[43m \u001B[49m\u001B[43mname\u001B[49m\u001B[38;5;241;43m=\u001B[39;49m\u001B[38;5;124;43m\"\u001B[39;49m\u001B[38;5;124;43mUnext\u001B[39;49m\u001B[38;5;124;43m\"\u001B[39;49m\u001B[43m)\u001B[49m\n\u001B[0;32m      6\u001B[0m     test(epoch\u001B[38;5;241m=\u001B[39mepoch, net\u001B[38;5;241m=\u001B[39mteacher, testloader\u001B[38;5;241m=\u001B[39mtest_loader, criterion\u001B[38;5;241m=\u001B[39mcriterion, scaler\u001B[38;5;241m=\u001B[39mscaler,\n\u001B[0;32m      7\u001B[0m          optimizer\u001B[38;5;241m=\u001B[39moptimizer, scheduler\u001B[38;5;241m=\u001B[39mscheduler, checkpoint\u001B[38;5;241m=\u001B[39mckpt, name\u001B[38;5;241m=\u001B[39m\u001B[38;5;124m\"\u001B[39m\u001B[38;5;124mUnext\u001B[39m\u001B[38;5;124m\"\u001B[39m)\n",
      "Input \u001B[1;32mIn [17]\u001B[0m, in \u001B[0;36mtrain\u001B[1;34m(epoch, net, trainloader, criterion, optimizer, scaler, scheduler, name)\u001B[0m\n\u001B[0;32m     11\u001B[0m     metric \u001B[38;5;241m=\u001B[39m dice_coef(y_pred\u001B[38;5;241m=\u001B[39moutputs[\u001B[38;5;124m\"\u001B[39m\u001B[38;5;124mout1\u001B[39m\u001B[38;5;124m\"\u001B[39m], y_true\u001B[38;5;241m=\u001B[39mtargets)\n\u001B[0;32m     12\u001B[0m optimizer\u001B[38;5;241m.\u001B[39mzero_grad()\n\u001B[1;32m---> 13\u001B[0m \u001B[43mscaler\u001B[49m\u001B[38;5;241;43m.\u001B[39;49m\u001B[43mscale\u001B[49m\u001B[43m(\u001B[49m\u001B[43mloss\u001B[49m\u001B[43m)\u001B[49m\u001B[38;5;241;43m.\u001B[39;49m\u001B[43mbackward\u001B[49m\u001B[43m(\u001B[49m\u001B[43m)\u001B[49m\n\u001B[0;32m     14\u001B[0m scaler\u001B[38;5;241m.\u001B[39mstep(optimizer)\n\u001B[0;32m     15\u001B[0m scaler\u001B[38;5;241m.\u001B[39mupdate()\n",
      "File \u001B[1;32m~\\AppData\\Roaming\\Python\\Python39\\site-packages\\torch\\_tensor.py:396\u001B[0m, in \u001B[0;36mTensor.backward\u001B[1;34m(self, gradient, retain_graph, create_graph, inputs)\u001B[0m\n\u001B[0;32m    387\u001B[0m \u001B[38;5;28;01mif\u001B[39;00m has_torch_function_unary(\u001B[38;5;28mself\u001B[39m):\n\u001B[0;32m    388\u001B[0m     \u001B[38;5;28;01mreturn\u001B[39;00m handle_torch_function(\n\u001B[0;32m    389\u001B[0m         Tensor\u001B[38;5;241m.\u001B[39mbackward,\n\u001B[0;32m    390\u001B[0m         (\u001B[38;5;28mself\u001B[39m,),\n\u001B[1;32m   (...)\u001B[0m\n\u001B[0;32m    394\u001B[0m         create_graph\u001B[38;5;241m=\u001B[39mcreate_graph,\n\u001B[0;32m    395\u001B[0m         inputs\u001B[38;5;241m=\u001B[39minputs)\n\u001B[1;32m--> 396\u001B[0m \u001B[43mtorch\u001B[49m\u001B[38;5;241;43m.\u001B[39;49m\u001B[43mautograd\u001B[49m\u001B[38;5;241;43m.\u001B[39;49m\u001B[43mbackward\u001B[49m\u001B[43m(\u001B[49m\u001B[38;5;28;43mself\u001B[39;49m\u001B[43m,\u001B[49m\u001B[43m \u001B[49m\u001B[43mgradient\u001B[49m\u001B[43m,\u001B[49m\u001B[43m \u001B[49m\u001B[43mretain_graph\u001B[49m\u001B[43m,\u001B[49m\u001B[43m \u001B[49m\u001B[43mcreate_graph\u001B[49m\u001B[43m,\u001B[49m\u001B[43m \u001B[49m\u001B[43minputs\u001B[49m\u001B[38;5;241;43m=\u001B[39;49m\u001B[43minputs\u001B[49m\u001B[43m)\u001B[49m\n",
      "File \u001B[1;32m~\\AppData\\Roaming\\Python\\Python39\\site-packages\\torch\\autograd\\__init__.py:173\u001B[0m, in \u001B[0;36mbackward\u001B[1;34m(tensors, grad_tensors, retain_graph, create_graph, grad_variables, inputs)\u001B[0m\n\u001B[0;32m    168\u001B[0m     retain_graph \u001B[38;5;241m=\u001B[39m create_graph\n\u001B[0;32m    170\u001B[0m \u001B[38;5;66;03m# The reason we repeat same the comment below is that\u001B[39;00m\n\u001B[0;32m    171\u001B[0m \u001B[38;5;66;03m# some Python versions print out the first line of a multi-line function\u001B[39;00m\n\u001B[0;32m    172\u001B[0m \u001B[38;5;66;03m# calls in the traceback and some print out the last line\u001B[39;00m\n\u001B[1;32m--> 173\u001B[0m \u001B[43mVariable\u001B[49m\u001B[38;5;241;43m.\u001B[39;49m\u001B[43m_execution_engine\u001B[49m\u001B[38;5;241;43m.\u001B[39;49m\u001B[43mrun_backward\u001B[49m\u001B[43m(\u001B[49m\u001B[43m  \u001B[49m\u001B[38;5;66;43;03m# Calls into the C++ engine to run the backward pass\u001B[39;49;00m\n\u001B[0;32m    174\u001B[0m \u001B[43m    \u001B[49m\u001B[43mtensors\u001B[49m\u001B[43m,\u001B[49m\u001B[43m \u001B[49m\u001B[43mgrad_tensors_\u001B[49m\u001B[43m,\u001B[49m\u001B[43m \u001B[49m\u001B[43mretain_graph\u001B[49m\u001B[43m,\u001B[49m\u001B[43m \u001B[49m\u001B[43mcreate_graph\u001B[49m\u001B[43m,\u001B[49m\u001B[43m \u001B[49m\u001B[43minputs\u001B[49m\u001B[43m,\u001B[49m\n\u001B[0;32m    175\u001B[0m \u001B[43m    \u001B[49m\u001B[43mallow_unreachable\u001B[49m\u001B[38;5;241;43m=\u001B[39;49m\u001B[38;5;28;43;01mTrue\u001B[39;49;00m\u001B[43m,\u001B[49m\u001B[43m \u001B[49m\u001B[43maccumulate_grad\u001B[49m\u001B[38;5;241;43m=\u001B[39;49m\u001B[38;5;28;43;01mTrue\u001B[39;49;00m\u001B[43m)\u001B[49m\n",
      "\u001B[1;31mKeyboardInterrupt\u001B[0m: "
     ]
    }
   ],
   "source": [
    "ckpt = Checkpoint()\n",
    "start, end = 0, 50\n",
    "for epoch in range(start, end):\n",
    "    teacher = train(epoch=epoch, net=model, trainloader=train_loader, criterion=criterion, scaler=scaler,\n",
    "        optimizer=optimizer, scheduler=scheduler, name=\"Unext\")\n",
    "    test(epoch=epoch, net=teacher, testloader=test_loader, criterion=criterion, scaler=scaler,\n",
    "         optimizer=optimizer, scheduler=scheduler, checkpoint=ckpt, name=\"Unext\")"
   ],
   "metadata": {
    "collapsed": false,
    "pycharm": {
     "name": "#%%\n"
    }
   }
  },
  {
   "cell_type": "code",
   "execution_count": null,
   "outputs": [],
   "source": [],
   "metadata": {
    "collapsed": false,
    "pycharm": {
     "name": "#%%\n"
    }
   }
  }
 ],
 "metadata": {
  "kernelspec": {
   "display_name": "Python 3",
   "language": "python",
   "name": "python3"
  },
  "language_info": {
   "codemirror_mode": {
    "name": "ipython",
    "version": 2
   },
   "file_extension": ".py",
   "mimetype": "text/x-python",
   "name": "python",
   "nbconvert_exporter": "python",
   "pygments_lexer": "ipython2",
   "version": "2.7.6"
  }
 },
 "nbformat": 4,
 "nbformat_minor": 0
}